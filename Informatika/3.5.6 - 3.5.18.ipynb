{
 "cells": [
  {
   "cell_type": "code",
   "execution_count": 1,
   "metadata": {},
   "outputs": [],
   "source": [
    "#uvoz biblioteke pandas\n",
    "import pandas as pd"
   ]
  },
  {
   "cell_type": "code",
   "execution_count": 2,
   "metadata": {},
   "outputs": [],
   "source": [
    "#kreiranje ugnježđene liste Rezultati\n",
    "Rezultati = [[1, \"Una\",    \"Zorić\",      16.32, 1.21, 25],\n",
    "             [2, \"Marta\",  \"Stanojević\", 15.44, 1.01, 16],\n",
    "             [3, \"Ognjen\", \"Novaković\",  14.56, 1.10, 5],\n",
    "             [4, \"Petra\",  \"Kaličanin\",  16.98, 0.89, 21],\n",
    "             [5, \"Novak\",  \"Đorđević\",   15.01, 1.32, 28],\n",
    "             [6, \"Đurđe\",  \"Martać\",     16.25, 1.18, 25],\n",
    "             [7, \"Kalina\", \"Ognjenović\", 14.38, 0.95, 25],\n",
    "             [8, \"Vanja\",  \"Čolović\",    14.55, 0.98, 26]]"
   ]
  },
  {
   "cell_type": "code",
   "execution_count": 3,
   "metadata": {},
   "outputs": [],
   "source": [
    "#pravljenje tabele od ugnježđene liste\n",
    "TabelaRezultata = pd.DataFrame(Rezultati)"
   ]
  },
  {
   "cell_type": "code",
   "execution_count": 4,
   "metadata": {},
   "outputs": [
    {
     "data": {
      "text/html": [
       "<div>\n",
       "<style scoped>\n",
       "    .dataframe tbody tr th:only-of-type {\n",
       "        vertical-align: middle;\n",
       "    }\n",
       "\n",
       "    .dataframe tbody tr th {\n",
       "        vertical-align: top;\n",
       "    }\n",
       "\n",
       "    .dataframe thead th {\n",
       "        text-align: right;\n",
       "    }\n",
       "</style>\n",
       "<table border=\"1\" class=\"dataframe\">\n",
       "  <thead>\n",
       "    <tr style=\"text-align: right;\">\n",
       "      <th></th>\n",
       "      <th>0</th>\n",
       "      <th>1</th>\n",
       "      <th>2</th>\n",
       "      <th>3</th>\n",
       "      <th>4</th>\n",
       "      <th>5</th>\n",
       "    </tr>\n",
       "  </thead>\n",
       "  <tbody>\n",
       "    <tr>\n",
       "      <th>0</th>\n",
       "      <td>1</td>\n",
       "      <td>Una</td>\n",
       "      <td>Zorić</td>\n",
       "      <td>16.32</td>\n",
       "      <td>1.21</td>\n",
       "      <td>25</td>\n",
       "    </tr>\n",
       "    <tr>\n",
       "      <th>1</th>\n",
       "      <td>2</td>\n",
       "      <td>Marta</td>\n",
       "      <td>Stanojević</td>\n",
       "      <td>15.44</td>\n",
       "      <td>1.01</td>\n",
       "      <td>16</td>\n",
       "    </tr>\n",
       "    <tr>\n",
       "      <th>2</th>\n",
       "      <td>3</td>\n",
       "      <td>Ognjen</td>\n",
       "      <td>Novaković</td>\n",
       "      <td>14.56</td>\n",
       "      <td>1.10</td>\n",
       "      <td>5</td>\n",
       "    </tr>\n",
       "    <tr>\n",
       "      <th>3</th>\n",
       "      <td>4</td>\n",
       "      <td>Petra</td>\n",
       "      <td>Kaličanin</td>\n",
       "      <td>16.98</td>\n",
       "      <td>0.89</td>\n",
       "      <td>21</td>\n",
       "    </tr>\n",
       "    <tr>\n",
       "      <th>4</th>\n",
       "      <td>5</td>\n",
       "      <td>Novak</td>\n",
       "      <td>Đorđević</td>\n",
       "      <td>15.01</td>\n",
       "      <td>1.32</td>\n",
       "      <td>28</td>\n",
       "    </tr>\n",
       "    <tr>\n",
       "      <th>5</th>\n",
       "      <td>6</td>\n",
       "      <td>Đurđe</td>\n",
       "      <td>Martać</td>\n",
       "      <td>16.25</td>\n",
       "      <td>1.18</td>\n",
       "      <td>25</td>\n",
       "    </tr>\n",
       "    <tr>\n",
       "      <th>6</th>\n",
       "      <td>7</td>\n",
       "      <td>Kalina</td>\n",
       "      <td>Ognjenović</td>\n",
       "      <td>14.38</td>\n",
       "      <td>0.95</td>\n",
       "      <td>25</td>\n",
       "    </tr>\n",
       "    <tr>\n",
       "      <th>7</th>\n",
       "      <td>8</td>\n",
       "      <td>Vanja</td>\n",
       "      <td>Čolović</td>\n",
       "      <td>14.55</td>\n",
       "      <td>0.98</td>\n",
       "      <td>26</td>\n",
       "    </tr>\n",
       "  </tbody>\n",
       "</table>\n",
       "</div>"
      ],
      "text/plain": [
       "   0       1           2      3     4   5\n",
       "0  1     Una       Zorić  16.32  1.21  25\n",
       "1  2   Marta  Stanojević  15.44  1.01  16\n",
       "2  3  Ognjen   Novaković  14.56  1.10   5\n",
       "3  4   Petra   Kaličanin  16.98  0.89  21\n",
       "4  5   Novak    Đorđević  15.01  1.32  28\n",
       "5  6   Đurđe      Martać  16.25  1.18  25\n",
       "6  7  Kalina  Ognjenović  14.38  0.95  25\n",
       "7  8   Vanja     Čolović  14.55  0.98  26"
      ]
     },
     "execution_count": 4,
     "metadata": {},
     "output_type": "execute_result"
    }
   ],
   "source": [
    "#prikaz kreirane tabele\n",
    "TabelaRezultata"
   ]
  },
  {
   "cell_type": "code",
   "execution_count": 5,
   "metadata": {
    "scrolled": true
   },
   "outputs": [],
   "source": [
    "#dodeljivanje naziva kolonama\n",
    "TabelaRezultata.columns = [\"R. br.\", \"Ime\", \"Prezime\", \"Trka100m\", \"Skok udalj\", \"Čučnjevi\"]"
   ]
  },
  {
   "cell_type": "code",
   "execution_count": 6,
   "metadata": {
    "scrolled": true
   },
   "outputs": [
    {
     "data": {
      "text/html": [
       "<div>\n",
       "<style scoped>\n",
       "    .dataframe tbody tr th:only-of-type {\n",
       "        vertical-align: middle;\n",
       "    }\n",
       "\n",
       "    .dataframe tbody tr th {\n",
       "        vertical-align: top;\n",
       "    }\n",
       "\n",
       "    .dataframe thead th {\n",
       "        text-align: right;\n",
       "    }\n",
       "</style>\n",
       "<table border=\"1\" class=\"dataframe\">\n",
       "  <thead>\n",
       "    <tr style=\"text-align: right;\">\n",
       "      <th></th>\n",
       "      <th>R. br.</th>\n",
       "      <th>Ime</th>\n",
       "      <th>Prezime</th>\n",
       "      <th>Trka100m</th>\n",
       "      <th>Skok udalj</th>\n",
       "      <th>Čučnjevi</th>\n",
       "    </tr>\n",
       "  </thead>\n",
       "  <tbody>\n",
       "    <tr>\n",
       "      <th>0</th>\n",
       "      <td>1</td>\n",
       "      <td>Una</td>\n",
       "      <td>Zorić</td>\n",
       "      <td>16.32</td>\n",
       "      <td>1.21</td>\n",
       "      <td>25</td>\n",
       "    </tr>\n",
       "    <tr>\n",
       "      <th>1</th>\n",
       "      <td>2</td>\n",
       "      <td>Marta</td>\n",
       "      <td>Stanojević</td>\n",
       "      <td>15.44</td>\n",
       "      <td>1.01</td>\n",
       "      <td>16</td>\n",
       "    </tr>\n",
       "    <tr>\n",
       "      <th>2</th>\n",
       "      <td>3</td>\n",
       "      <td>Ognjen</td>\n",
       "      <td>Novaković</td>\n",
       "      <td>14.56</td>\n",
       "      <td>1.10</td>\n",
       "      <td>5</td>\n",
       "    </tr>\n",
       "    <tr>\n",
       "      <th>3</th>\n",
       "      <td>4</td>\n",
       "      <td>Petra</td>\n",
       "      <td>Kaličanin</td>\n",
       "      <td>16.98</td>\n",
       "      <td>0.89</td>\n",
       "      <td>21</td>\n",
       "    </tr>\n",
       "    <tr>\n",
       "      <th>4</th>\n",
       "      <td>5</td>\n",
       "      <td>Novak</td>\n",
       "      <td>Đorđević</td>\n",
       "      <td>15.01</td>\n",
       "      <td>1.32</td>\n",
       "      <td>28</td>\n",
       "    </tr>\n",
       "    <tr>\n",
       "      <th>5</th>\n",
       "      <td>6</td>\n",
       "      <td>Đurđe</td>\n",
       "      <td>Martać</td>\n",
       "      <td>16.25</td>\n",
       "      <td>1.18</td>\n",
       "      <td>25</td>\n",
       "    </tr>\n",
       "    <tr>\n",
       "      <th>6</th>\n",
       "      <td>7</td>\n",
       "      <td>Kalina</td>\n",
       "      <td>Ognjenović</td>\n",
       "      <td>14.38</td>\n",
       "      <td>0.95</td>\n",
       "      <td>25</td>\n",
       "    </tr>\n",
       "    <tr>\n",
       "      <th>7</th>\n",
       "      <td>8</td>\n",
       "      <td>Vanja</td>\n",
       "      <td>Čolović</td>\n",
       "      <td>14.55</td>\n",
       "      <td>0.98</td>\n",
       "      <td>26</td>\n",
       "    </tr>\n",
       "  </tbody>\n",
       "</table>\n",
       "</div>"
      ],
      "text/plain": [
       "   R. br.     Ime     Prezime  Trka100m  Skok udalj  Čučnjevi\n",
       "0       1     Una       Zorić     16.32        1.21        25\n",
       "1       2   Marta  Stanojević     15.44        1.01        16\n",
       "2       3  Ognjen   Novaković     14.56        1.10         5\n",
       "3       4   Petra   Kaličanin     16.98        0.89        21\n",
       "4       5   Novak    Đorđević     15.01        1.32        28\n",
       "5       6   Đurđe      Martać     16.25        1.18        25\n",
       "6       7  Kalina  Ognjenović     14.38        0.95        25\n",
       "7       8   Vanja     Čolović     14.55        0.98        26"
      ]
     },
     "execution_count": 6,
     "metadata": {},
     "output_type": "execute_result"
    }
   ],
   "source": [
    "TabelaRezultata"
   ]
  },
  {
   "cell_type": "code",
   "execution_count": null,
   "metadata": {},
   "outputs": [],
   "source": []
  },
  {
   "cell_type": "code",
   "execution_count": null,
   "metadata": {},
   "outputs": [],
   "source": []
  },
  {
   "cell_type": "markdown",
   "metadata": {},
   "source": [
    "**Čuvanje tabele u različitim formatima**"
   ]
  },
  {
   "cell_type": "code",
   "execution_count": null,
   "metadata": {},
   "outputs": [],
   "source": [
    "TabelaRezultata.to_csv(\"Takmičenje.csv\")"
   ]
  },
  {
   "cell_type": "code",
   "execution_count": null,
   "metadata": {},
   "outputs": [],
   "source": [
    "TabelaRezultata.to_csv(\"Takmicenje.csv\", index=False)"
   ]
  },
  {
   "cell_type": "code",
   "execution_count": null,
   "metadata": {},
   "outputs": [],
   "source": [
    "TabelaRezultata.to_csv(\"Takmicenje.csv\", index=False, encoding = \"utf-8-sig\")"
   ]
  },
  {
   "cell_type": "code",
   "execution_count": null,
   "metadata": {},
   "outputs": [],
   "source": [
    "TabelaRezultata.to_excel(\"Takmicenje.xlsx\", index=False)"
   ]
  },
  {
   "cell_type": "code",
   "execution_count": null,
   "metadata": {},
   "outputs": [],
   "source": [
    "TabelaRezultata.to_csv(\"Takmicenje.txt\", index=False)"
   ]
  },
  {
   "cell_type": "code",
   "execution_count": null,
   "metadata": {},
   "outputs": [],
   "source": [
    "TabelaRezultata.to_csv(\"C:/Users/Ucenik/Desktop/Takmičenje.csv\", index=False)"
   ]
  },
  {
   "cell_type": "code",
   "execution_count": null,
   "metadata": {},
   "outputs": [],
   "source": []
  },
  {
   "cell_type": "code",
   "execution_count": null,
   "metadata": {},
   "outputs": [],
   "source": []
  },
  {
   "cell_type": "markdown",
   "metadata": {},
   "source": [
    "**Učitavanje tabela iz fajlova s računara i s interneta**"
   ]
  },
  {
   "cell_type": "code",
   "execution_count": null,
   "metadata": {},
   "outputs": [],
   "source": [
    "TabelaOcena = pd.read_csv(\"C:/Users/Ucenik/Desktop/Ocene.csv\")"
   ]
  },
  {
   "cell_type": "code",
   "execution_count": null,
   "metadata": {},
   "outputs": [],
   "source": [
    "TabelaOcenaXL = pd.read_excel(\"C:/Users/Ucenik/Desktop/Ocene.xlsx\")"
   ]
  },
  {
   "cell_type": "code",
   "execution_count": null,
   "metadata": {},
   "outputs": [],
   "source": [
    "TabelaGT = pd.read_csv(\"https://github.com/vulkanznanje/Fajlovi/blob/master/Ocene.csv\")"
   ]
  },
  {
   "cell_type": "code",
   "execution_count": null,
   "metadata": {},
   "outputs": [],
   "source": []
  }
 ],
 "metadata": {
  "kernelspec": {
   "display_name": "Python 3 (ipykernel)",
   "language": "python",
   "name": "python3"
  },
  "language_info": {
   "codemirror_mode": {
    "name": "ipython",
    "version": 3
   },
   "file_extension": ".py",
   "mimetype": "text/x-python",
   "name": "python",
   "nbconvert_exporter": "python",
   "pygments_lexer": "ipython3",
   "version": "3.9.12"
  }
 },
 "nbformat": 4,
 "nbformat_minor": 2
}
